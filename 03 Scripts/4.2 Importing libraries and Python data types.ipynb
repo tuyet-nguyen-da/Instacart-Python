{
 "cells": [
  {
   "cell_type": "markdown",
   "id": "85da6cae",
   "metadata": {},
   "source": [
    " # 01. Importing libraries"
   ]
  },
  {
   "cell_type": "code",
   "execution_count": 1,
   "id": "5bbf9a28",
   "metadata": {},
   "outputs": [],
   "source": [
    "# Import libraries\n",
    "import pandas as pd\n",
    "import numpy as np\n",
    "import os "
   ]
  },
  {
   "cell_type": "markdown",
   "id": "3f67194c",
   "metadata": {},
   "source": [
    "# 02. Data types in Python"
   ]
  },
  {
   "cell_type": "code",
   "execution_count": 25,
   "id": "282e4181",
   "metadata": {},
   "outputs": [
    {
     "name": "stdout",
     "output_type": "stream",
     "text": [
      "100 100 100\n"
     ]
    }
   ],
   "source": [
    "# 3 different ways of reaching a result of 100 by adding or subtracting numeric variables.\n",
    "\n",
    "# assign variables\n",
    "x1 = 2\n",
    "y1 = 98\n",
    "z1= 198\n",
    "\n",
    "# calculation\n",
    "p = x1 + y1\n",
    "q = z1 - y1\n",
    "t = 102 - x\n",
    "print (p, q, t)"
   ]
  },
  {
   "cell_type": "code",
   "execution_count": 26,
   "id": "4b34e5c3",
   "metadata": {},
   "outputs": [
    {
     "name": "stdout",
     "output_type": "stream",
     "text": [
      "1.5714285714285714\n"
     ]
    }
   ],
   "source": [
    "# Code 2 floating-point variables and divide them by each other.\n",
    "x2 = 5.5\n",
    "y2 = 3.5\n",
    "z2 = x2/y2\n",
    "print(z2)"
   ]
  },
  {
   "cell_type": "code",
   "execution_count": 27,
   "id": "6d91caa6",
   "metadata": {},
   "outputs": [
    {
     "name": "stdout",
     "output_type": "stream",
     "text": [
      "hello!\n"
     ]
    }
   ],
   "source": [
    "# Construct a short word made of separate strings (you’ll need to concatenate some strings!).\n",
    "a = 'hell'\n",
    "b = 'o!'\n",
    "c = a + b\n",
    "print(c)"
   ]
  },
  {
   "cell_type": "code",
   "execution_count": 28,
   "id": "fea11ed4",
   "metadata": {},
   "outputs": [
    {
     "name": "stdout",
     "output_type": "stream",
     "text": [
      "Nothing is impossible.\n"
     ]
    }
   ],
   "source": [
    "# Construct 2 short sentences made of separate strings.\n",
    "d = 'Nothing is'\n",
    "e = ' impossible.'\n",
    "f = d + e\n",
    "print(f)\n"
   ]
  },
  {
   "cell_type": "code",
   "execution_count": 29,
   "id": "6dfe1cff",
   "metadata": {},
   "outputs": [
    {
     "name": "stdout",
     "output_type": "stream",
     "text": [
      "Nothing is impossible.Nothing is impossible.Nothing is impossible.Nothing is impossible.Nothing is impossible.Nothing is impossible.Nothing is impossible.Nothing is impossible.Nothing is impossible.Nothing is impossible.Nothing is impossible.Nothing is impossible.Nothing is impossible.Nothing is impossible.Nothing is impossible.Nothing is impossible.Nothing is impossible.Nothing is impossible.Nothing is impossible.Nothing is impossible.Nothing is impossible.Nothing is impossible.Nothing is impossible.Nothing is impossible.Nothing is impossible.Nothing is impossible.Nothing is impossible.Nothing is impossible.Nothing is impossible.Nothing is impossible.Nothing is impossible.Nothing is impossible.Nothing is impossible.Nothing is impossible.Nothing is impossible.Nothing is impossible.Nothing is impossible.Nothing is impossible.Nothing is impossible.Nothing is impossible.Nothing is impossible.Nothing is impossible.Nothing is impossible.Nothing is impossible.Nothing is impossible.Nothing is impossible.Nothing is impossible.Nothing is impossible.Nothing is impossible.Nothing is impossible.Nothing is impossible.Nothing is impossible.Nothing is impossible.Nothing is impossible.Nothing is impossible.Nothing is impossible.Nothing is impossible.Nothing is impossible.Nothing is impossible.Nothing is impossible.Nothing is impossible.Nothing is impossible.Nothing is impossible.Nothing is impossible.Nothing is impossible.Nothing is impossible.Nothing is impossible.Nothing is impossible.Nothing is impossible.Nothing is impossible.Nothing is impossible.Nothing is impossible.Nothing is impossible.Nothing is impossible.Nothing is impossible.Nothing is impossible.Nothing is impossible.Nothing is impossible.Nothing is impossible.Nothing is impossible.Nothing is impossible.Nothing is impossible.Nothing is impossible.Nothing is impossible.Nothing is impossible.Nothing is impossible.Nothing is impossible.Nothing is impossible.Nothing is impossible.Nothing is impossible.Nothing is impossible.Nothing is impossible.Nothing is impossible.Nothing is impossible.Nothing is impossible.Nothing is impossible.Nothing is impossible.Nothing is impossible.Nothing is impossible.Nothing is impossible.\n"
     ]
    }
   ],
   "source": [
    "# Bonus Task\n",
    "g = f*100\n",
    "print(g)\n",
    "\n"
   ]
  },
  {
   "cell_type": "code",
   "execution_count": null,
   "id": "b160c3c3",
   "metadata": {},
   "outputs": [],
   "source": []
  }
 ],
 "metadata": {
  "kernelspec": {
   "display_name": "Python 3 (ipykernel)",
   "language": "python",
   "name": "python3"
  },
  "language_info": {
   "codemirror_mode": {
    "name": "ipython",
    "version": 3
   },
   "file_extension": ".py",
   "mimetype": "text/x-python",
   "name": "python",
   "nbconvert_exporter": "python",
   "pygments_lexer": "ipython3",
   "version": "3.10.9"
  }
 },
 "nbformat": 4,
 "nbformat_minor": 5
}
